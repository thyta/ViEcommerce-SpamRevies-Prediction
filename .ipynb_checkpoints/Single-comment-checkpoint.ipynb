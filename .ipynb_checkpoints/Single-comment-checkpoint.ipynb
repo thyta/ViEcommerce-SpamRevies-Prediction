{
 "cells": [
  {
   "cell_type": "code",
   "execution_count": 13,
   "id": "c7a1819c-ba0a-4653-9038-5ce6b69f24f4",
   "metadata": {},
   "outputs": [],
   "source": [
    "import os\n",
    "import pandas as pd\n",
    "import numpy as np\n",
    "\n",
    "from pyvi.ViTokenizer import ViTokenizer #vietnamese tokenizer\n",
    "\n",
    "import re #regular expression\n",
    "\n",
    "import pickle\n",
    "from keras_preprocessing.sequence import pad_sequences"
   ]
  },
  {
   "cell_type": "code",
   "execution_count": 2,
   "id": "25cd590a-6646-46a6-93b3-18457fabb9cf",
   "metadata": {},
   "outputs": [],
   "source": [
    "from tensorflow import keras\n",
    "from tensorflow.keras.preprocessing import text, sequence "
   ]
  },
  {
   "cell_type": "code",
   "execution_count": 3,
   "id": "ad3f4e5a-34e6-4e50-95fc-feb5deef8c8e",
   "metadata": {},
   "outputs": [],
   "source": [
    "DIR_DATASET = os.path.join('dataset')\n",
    "\n",
    "EMBEDDING_PATH = os.path.join(DIR_DATASET, 'cc.vi.300.vec')\n",
    "TOKENIZER_PATH = os.path.join(DIR_DATASET, 'tokenizer.pickle')\n",
    "VISTOPWORDS_PATH = os.path.join(DIR_DATASET, \"vietnamese-stopwords.txt\")\n",
    "\n",
    "MODEL_DIR = os.path.join('model')"
   ]
  },
  {
   "cell_type": "code",
   "execution_count": 4,
   "id": "d805f32c-df8c-466d-9fe5-5d5d06689825",
   "metadata": {},
   "outputs": [],
   "source": [
    "CNNS_PATH = os.path.join(MODEL_DIR, 'CNNs.keras')"
   ]
  },
  {
   "cell_type": "code",
   "execution_count": 11,
   "id": "5e1e3b06-b512-4a66-ada9-1affb9aa61cb",
   "metadata": {},
   "outputs": [],
   "source": [
    "# Load the pre-trained model\n",
    "textCNNModel = keras.models.load_model(CNNS_PATH)"
   ]
  },
  {
   "cell_type": "code",
   "execution_count": 8,
   "id": "4ed607cc-86bb-4a1d-9978-565d0b1c7430",
   "metadata": {},
   "outputs": [],
   "source": [
    "maxlen = 100\n",
    "train_X = np.load('dataset/internal-vocabulary.npy')\n",
    "\n",
    "def convert_np_array(single_string):\n",
    "    tokenizer = text.Tokenizer(lower=False, filters='!\"#$%&()*+,-./:;<=>?@[\\]^`{|}~\\t\\n')\n",
    "    tokenizer.fit_on_texts(train_X)\n",
    "    input_sequence = tokenizer.texts_to_sequences([single_string])\n",
    "    padded_input_sequence = pad_sequences(input_sequence, maxlen=maxlen)\n",
    "    return padded_input_sequence"
   ]
  },
  {
   "cell_type": "code",
   "execution_count": 22,
   "id": "d3b71cc7-372e-490f-a5fd-bc0ee05518ba",
   "metadata": {},
   "outputs": [
    {
     "name": "stdout",
     "output_type": "stream",
     "text": [
      "[[0 0 0 0 0 0 0 0 0 0 0 0 0 0 0 0 0 0 0 0 0 0 0 0 0 0 0 0 0 0 0 0 0 0 0 0\n",
      "  0 0 0 0 0 0 0 0 0 0 0 0 0 0 0 0 0 0 0 0 0 0 0 0 0 0 0 0 0 0 0 0 0 0 0 0\n",
      "  0 0 0 0 0 0 0 0 0 0 0 0 0 0 0 0 0 0 0 0 0 0 0 0 0 0 0 0]]\n",
      "\u001b[1m1/1\u001b[0m \u001b[32m━━━━━━━━━━━━━━━━━━━━\u001b[0m\u001b[37m\u001b[0m \u001b[1m0s\u001b[0m 22ms/step\n",
      "score:  [[0.9727896]]\n",
      "type: spam\n"
     ]
    }
   ],
   "source": [
    "input_string0 = \"Bỉm dùng thích, mua sale được giá tốt shop giao hàng nhanh sẽ ủng hộ tiếp\"\n",
    "input_string1 = \"Xu :)))) Xu :)))) Xu :)))) Xu :)))) Xu :)))) Xu :)))) Xu :)))) Xu :)))) Xu :)))) Xu :)))) Xu :)))) Xu :)))) Xu :)))) Xu :)))) Xu :)))) Xu :)))) Xu :)))) Xu :)))) Xu :)))) Xu :)))) Xu :)))) Xu :)))) Xu :)))) Xu :)))) Xu :)))) Xu :)))) Xu :)))) Xu :)))) Xu :)))) Xu :)))) Xu :)))) Xu :)))) Xu :)))) Xu\"\n",
    "input_string2 = \"Âjskskxjxndndjsjdjskssosojsjsisossksksjdhhsjsussusjsjsjsjs\"\n",
    "input_string3 = \"Có 4 Màu : Bạc - Vàng - Đen - Vàng Hồng ✚ Sản Phẩm : WR ✚ Tình trạng : mới ✚ Đồng hồ : nam nữ ✚ Kích thước: 36mm Dày : 5mm ✚ Chất liệu khung đồng hồ: thép không gỉ ✚ Chất liệu kính: Chống xước tốt. ✚ Loại dây đeo: thép không gỉ ✚ Chức năng hiển thị: Giờ, Phút, Giây, ngày, tháng ✚ Năng lượng: dùng pin ✚ Khả năng chống nước: chống nước sinh hoạt ✚ Bảo hành: 6 tháng ➥ Cam Kết ★★ 🚗 GIAO HÀNG & THANH TOÁN (COD) TẬN NƠI TRÊN TOÀN QUỐC. 👆 👆 BẢO HÀNH MÁY 6 THÁNG, PIN 12 THÁNG, 1 ĐỔI 1 TRONG VÒNG 7 NGÀY NẾU SẢN PHẨM LÀ LỖI CỦA NHÀ SẢN XUẤT 💲 KHÔNG BẢO HÀNH TRẦY XƯỚC BÊN NGOÀI #dongho #đồnghồnữ #sale #sangtrong #donghosapphire #donghothoitrang #donghonu #thoitrang #donghocaocap #donghogiare #donghodoi #đồnghồ #đồnghồnam #donghonam #chongnuoc\"\n",
    "input_string4 = \"Hình ảnh chỉ mang tính chất nhận xu \"\n",
    "input_string5 = \"Đúng như mô tả. Mình thích màu cam này. Túi đựng 7inch thoải mái. Có 2 ngăn 2 bên ngoài và 2 ngăn kéo khoá ở trong.\"\n",
    "input_string6 = \"Màu ngoài ko tươi như hình nhưng ok. Shop giao nhanh. Túi rẻ mà tận 4 ngăn, may cũng cẩn thận. Size hơi to so với điện thoại, được cái nhiều ngăn nên để tiền riêng sạch sẽ.\"\n",
    "input_string7 = \"Sẽ còn ủng hộ shop, chất liệu và đường may rất chắc chắn. Hàng từ nước ngoài nhưng giao khá nhanh\"\n",
    "input_string8 = \"Túi đẹp lắm luôn á. Giá rẻ mà chất lượng tốt. Lúc đầu mình nghĩ là nó kiểu mỏng mỏng nhưng mà mua về thì thấy không nha, dày dằn, rộng, đeo vô siu đẹp lun á.\"\n",
    "input_string9 = \"Túi rộng rãi, nhiều ngăn, vải chắc chắn, đựng đc điện thoại và nhiều đồ linh tinh. Nhìn chung okie nhe.\"\n",
    "input_string10 = \"Mối quan hệ kiểu bromosexual chủ yếu nhằm tháo gỡ những định kiến về giới tính trong cách tương tác và kết giao bạn bè.\"\n",
    "input_string11 = \"Hình ảnh mang tính chất nhận xu, sản phẩm ok. , sẽ mua lịa nếu có nhu cầu\"\n",
    "input_string12 = \"Sản phẩm nhìn ok, hình ảnh mang tính chất nhận xu\"\n",
    "input_string13 = \"Túi phải gọi là siêu xinh luôn mấy bà . Vải mền mịn ở ngoài xinh hơn trong hình nha\"\n",
    "input_string14 = \"spammmmmmmmmmmmmmmmmmmmm spammmmmmmmmmmmmm :)))))\"\n",
    "\n",
    "string_convereted = convert_np_array(input_string14)\n",
    "\n",
    "print(string_convereted)\n",
    "\n",
    "predictions = textCNNModel.predict(string_convereted)\n",
    "\n",
    "print(\"score: \", predictions)\n",
    "if predictions > 0.5:\n",
    "    print(\"type: spam\")\n",
    "else:\n",
    "    print(\"type: non-spam\")"
   ]
  }
 ],
 "metadata": {
  "kernelspec": {
   "display_name": "Python 3 (ipykernel)",
   "language": "python",
   "name": "python3"
  },
  "language_info": {
   "codemirror_mode": {
    "name": "ipython",
    "version": 3
   },
   "file_extension": ".py",
   "mimetype": "text/x-python",
   "name": "python",
   "nbconvert_exporter": "python",
   "pygments_lexer": "ipython3",
   "version": "3.11.7"
  }
 },
 "nbformat": 4,
 "nbformat_minor": 5
}
