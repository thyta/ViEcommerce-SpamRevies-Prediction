{
 "cells": [
  {
   "cell_type": "code",
   "execution_count": 1,
   "id": "5bda9b87-7463-4154-a6ed-381fb16515f1",
   "metadata": {},
   "outputs": [],
   "source": [
    "import os\n",
    "import pandas as pd\n",
    "import numpy as np\n",
    "\n",
    "from pyvi.ViTokenizer import ViTokenizer #vietnamese tokenizer\n",
    "\n",
    "import re #regular expression\n",
    "\n",
    "import pickle\n",
    "from keras_preprocessing.sequence import pad_sequences\n",
    "\n",
    "from tensorflow import keras\n",
    "from tensorflow.keras.preprocessing import text, sequence "
   ]
  },
  {
   "cell_type": "code",
   "execution_count": 2,
   "id": "a3557d2b-ecc7-47cd-8361-2a70f1238e28",
   "metadata": {},
   "outputs": [],
   "source": [
    "DIR_DATASET = os.path.join('dataset')\n",
    "\n",
    "EMBEDDING_PATH = os.path.join(DIR_DATASET, 'cc.vi.300.vec')\n",
    "TOKENIZER_PATH = os.path.join(DIR_DATASET, 'tokenizer.pickle')\n",
    "VISTOPWORDS_PATH = os.path.join(DIR_DATASET, \"vietnamese-stopwords.txt\")\n",
    "\n",
    "MODEL_DIR = os.path.join('model')"
   ]
  },
  {
   "cell_type": "code",
   "execution_count": 3,
   "id": "fb5a98eb-3d65-4774-8d20-f5858fb838b5",
   "metadata": {},
   "outputs": [],
   "source": [
    "DIR_DATASET = os.path.join('dataset')\n",
    "\n",
    "EMBEDDING_PATH = os.path.join(DIR_DATASET, 'cc.vi.300.vec')\n",
    "TOKENIZER_PATH = os.path.join(DIR_DATASET, 'tokenizer.pickle')\n",
    "VISTOPWORDS_PATH = os.path.join(DIR_DATASET, \"vietnamese-stopwords.txt\")\n",
    "\n",
    "MODEL_DIR = os.path.join('model')"
   ]
  },
  {
   "cell_type": "code",
   "execution_count": 4,
   "id": "ffe1ed21-9db2-41a5-960e-aab68c2af44a",
   "metadata": {},
   "outputs": [],
   "source": [
    "# Load the pre-trained model\n",
    "CNNS_PATH = os.path.join(MODEL_DIR, 'CNNs.keras')\n",
    "\n",
    "textCNNModel = keras.models.load_model(CNNS_PATH)\n",
    "\n",
    "LSTM_PATH = os.path.join(MODEL_DIR, 'LSTM.keras')\n",
    "\n",
    "LSTM = keras.models.load_model(LSTM_PATH)"
   ]
  },
  {
   "cell_type": "markdown",
   "id": "0cb8a526-41e7-4b56-8975-6d5339a494da",
   "metadata": {},
   "source": [
    "Prepare"
   ]
  },
  {
   "cell_type": "code",
   "execution_count": 5,
   "id": "48cb4f7b-5fae-450f-83fd-8c71d7c9daaa",
   "metadata": {},
   "outputs": [],
   "source": [
    "with open(VISTOPWORDS_PATH, \"r\", encoding=\"utf-8\") as ins:\n",
    "    stopwords = []\n",
    "    for line in ins:\n",
    "        dd = line.strip('\\n')\n",
    "        stopwords.append(dd)\n",
    "    stopwords = set(stopwords)"
   ]
  },
  {
   "cell_type": "code",
   "execution_count": 6,
   "id": "6f4231a6-d330-4af3-9047-a0e616247c8c",
   "metadata": {},
   "outputs": [],
   "source": [
    "PATH_TEST_V1 = os.path.join(DIR_DATASET, 'core-data\\\\test_ver1.csv')\n",
    "data_test_v1 = pd.read_csv(PATH_TEST_V1)"
   ]
  },
  {
   "cell_type": "code",
   "execution_count": 7,
   "id": "ded680f0-845d-48c6-bff2-80b29f99930e",
   "metadata": {},
   "outputs": [
    {
     "data": {
      "text/plain": [
       "(3974, 11)"
      ]
     },
     "execution_count": 7,
     "metadata": {},
     "output_type": "execute_result"
    }
   ],
   "source": [
    "data_test_v1.shape"
   ]
  },
  {
   "cell_type": "code",
   "execution_count": 8,
   "id": "ec7c7dd2-2aaf-4625-a677-f4e4cb20c072",
   "metadata": {},
   "outputs": [
    {
     "data": {
      "text/plain": [
       "Index(['link', 'rating', 'comment', 'categories', 'category', 'product_name',\n",
       "       'description', 'num_sold', 'num_review', 'label', 'spam_label'],\n",
       "      dtype='object')"
      ]
     },
     "execution_count": 8,
     "metadata": {},
     "output_type": "execute_result"
    }
   ],
   "source": [
    "data_test_v1.columns"
   ]
  },
  {
   "cell_type": "code",
   "execution_count": 9,
   "id": "83a31d0a-7dec-479b-b9ac-06a2e0f120f7",
   "metadata": {},
   "outputs": [],
   "source": [
    "data_test_v1=data_test_v1.drop(['link', 'rating', 'categories', 'category', 'product_name',\n",
    "       'description', 'num_sold', 'num_review', 'spam_label'], axis=1)"
   ]
  },
  {
   "cell_type": "code",
   "execution_count": 10,
   "id": "ef8db38a-ee30-4285-a831-8202dcf02cbc",
   "metadata": {},
   "outputs": [],
   "source": [
    "data_test_v1=data_test_v1.drop_duplicates(keep='first')"
   ]
  },
  {
   "cell_type": "code",
   "execution_count": 11,
   "id": "4bb2fd31-34fd-4b70-a2de-a9071886b050",
   "metadata": {},
   "outputs": [
    {
     "data": {
      "text/plain": [
       "0"
      ]
     },
     "execution_count": 11,
     "metadata": {},
     "output_type": "execute_result"
    }
   ],
   "source": [
    "data_test_v1.duplicated().sum()"
   ]
  },
  {
   "cell_type": "code",
   "execution_count": 12,
   "id": "4c6a5a26-85b6-46b3-9d17-d3ad776301cf",
   "metadata": {},
   "outputs": [
    {
     "data": {
      "text/plain": [
       "(3971, 2)"
      ]
     },
     "execution_count": 12,
     "metadata": {},
     "output_type": "execute_result"
    }
   ],
   "source": [
    "data_test_v1.shape"
   ]
  },
  {
   "cell_type": "code",
   "execution_count": 13,
   "id": "905835eb-4285-445f-b5f2-dc2fdeb4e01a",
   "metadata": {},
   "outputs": [],
   "source": [
    "# filder stop word\n",
    "def filter_stop_words(train_sentences, stop_words):\n",
    "    new_sent = [word for word in train_sentences.split() if word not in stop_words]\n",
    "    train_sentences = ' '.join(new_sent)\n",
    "    return train_sentences\n",
    "\n",
    "# remove emoji\n",
    "def deEmojify(text):\n",
    "    regrex_pattern = re.compile(pattern = \"[\"\n",
    "        u\"\\U0001F600-\\U0001F64F\"  # emoticons\n",
    "        u\"\\U0001F300-\\U0001F5FF\"  # symbols & pictographs\n",
    "        u\"\\U0001F680-\\U0001F6FF\"  # transport & map symbols\n",
    "        u\"\\U0001F1E0-\\U0001F1FF\"  # flags (iOS)\n",
    "                           \"]+\", flags = re.UNICODE)\n",
    "    return regrex_pattern.sub(r'',text)\n",
    "# declare func and adding some remove\n",
    "def preprocess(text, tokenized = True, lowercased = True):\n",
    "    text = ViTokenizer.tokenize(text) if tokenized else text\n",
    "    text = filter_stop_words(text, stopwords)\n",
    "    text = deEmojify(text)\n",
    "    text = text.lower() if lowercased else text\n",
    "\n",
    "    text = text.strip()\n",
    "    text = re.compile('<.*?>').sub('', text)\n",
    "    text = re.sub('\\s+', ' ', text) \n",
    "    text = re.sub(r'\\[[0-9]*\\]',' ',text)\n",
    "    text = re.sub(r'[^\\w\\s]', '', text)\n",
    "    text = re.sub(r'\\d',' ',text)\n",
    "    text = re.sub(r'\\s+',' ',text)\n",
    "    return text\n",
    "\n",
    "def pre_process_df(X, tokenized=True, lowercased=True):\n",
    "    X = np.array(X)\n",
    "    to_delete_indices = []\n",
    "    \n",
    "    # Preprocess and track indices of empty elements\n",
    "    for idx, ele in enumerate(X):\n",
    "        processed_ele = preprocess(str(ele), tokenized=tokenized, lowercased=lowercased)\n",
    "        if not processed_ele:\n",
    "            to_delete_indices.append(idx)\n",
    "        X[idx] = processed_ele\n",
    "    \n",
    "    # Remove empty elements\n",
    "    X = np.delete(X, to_delete_indices)\n",
    "    \n",
    "    return X, to_delete_indices"
   ]
  },
  {
   "cell_type": "code",
   "execution_count": 14,
   "id": "a178a509-ca28-4740-b71a-a8e5107c7b6a",
   "metadata": {},
   "outputs": [],
   "source": [
    "X_v1 = data_test_v1.iloc[:, 0:1]\n",
    "y_v1 = data_test_v1.iloc[:, 1:2]"
   ]
  },
  {
   "cell_type": "code",
   "execution_count": 15,
   "id": "3ec0285e-339e-433e-bf94-a02a972786f5",
   "metadata": {},
   "outputs": [
    {
     "ename": "KeyboardInterrupt",
     "evalue": "",
     "output_type": "error",
     "traceback": [
      "\u001b[1;31m---------------------------------------------------------------------------\u001b[0m",
      "\u001b[1;31mKeyboardInterrupt\u001b[0m                         Traceback (most recent call last)",
      "Cell \u001b[1;32mIn[15], line 3\u001b[0m\n\u001b[0;32m      1\u001b[0m embeddings_index \u001b[38;5;241m=\u001b[39m {}\n\u001b[0;32m      2\u001b[0m \u001b[38;5;28;01mwith\u001b[39;00m \u001b[38;5;28mopen\u001b[39m(EMBEDDING_PATH, encoding\u001b[38;5;241m=\u001b[39m\u001b[38;5;124m'\u001b[39m\u001b[38;5;124mutf8\u001b[39m\u001b[38;5;124m'\u001b[39m) \u001b[38;5;28;01mas\u001b[39;00m f:\n\u001b[1;32m----> 3\u001b[0m     \u001b[38;5;28;01mfor\u001b[39;00m line \u001b[38;5;129;01min\u001b[39;00m f:\n\u001b[0;32m      4\u001b[0m         values \u001b[38;5;241m=\u001b[39m line\u001b[38;5;241m.\u001b[39mrstrip()\u001b[38;5;241m.\u001b[39mrsplit(\u001b[38;5;124m'\u001b[39m\u001b[38;5;124m \u001b[39m\u001b[38;5;124m'\u001b[39m)\n\u001b[0;32m      5\u001b[0m         word \u001b[38;5;241m=\u001b[39m values[\u001b[38;5;241m0\u001b[39m]\n",
      "File \u001b[1;32m<frozen codecs>:319\u001b[0m, in \u001b[0;36mdecode\u001b[1;34m(self, input, final)\u001b[0m\n",
      "\u001b[1;31mKeyboardInterrupt\u001b[0m: "
     ]
    }
   ],
   "source": [
    "embeddings_index = {}\n",
    "with open(EMBEDDING_PATH, encoding='utf8') as f:\n",
    "    for line in f:\n",
    "        values = line.rstrip().rsplit(' ')\n",
    "        word = values[0]\n",
    "        coefs = np.asarray(values[1:], dtype='float32')\n",
    "        embeddings_index[word] = coefs"
   ]
  },
  {
   "cell_type": "code",
   "execution_count": null,
   "id": "d6f0cc76-e4a4-49a5-a569-a071ba0f3bd7",
   "metadata": {},
   "outputs": [],
   "source": [
    "v1_X, to_delete_indices = pre_process_df(X_v1['comment'], tokenized=True, lowercased=True)\n",
    "\n",
    "# Remove the rows in the original DataFrame\n",
    "data_test_v1 = data_test_v1.drop(index=to_delete_indices).reset_index(drop=True)"
   ]
  },
  {
   "cell_type": "code",
   "execution_count": null,
   "id": "6cb958c2-889c-414c-9a8f-bb2550fc1e0c",
   "metadata": {},
   "outputs": [],
   "source": [
    "sequence_length = 100\n",
    "tokenizer = text.Tokenizer(lower=False, filters='!\"#$%&()*+,-./:;<=>?@[\\]^`{|}~\\t\\n')\n",
    "\n",
    "# load internal vocabulary\n",
    "train_X = np.load('dataset/internal-vocabulary.npy')\n",
    "\n",
    "tokenizer.fit_on_texts(train_X)\n",
    "\n",
    "with open(TOKENIZER_PATH, 'wb') as handle:\n",
    "    pickle.dump(tokenizer, handle, protocol=pickle.HIGHEST_PROTOCOL)\n",
    "\n",
    "def make_featues(X, tokenizer, is_one_hot_label=False, number_class1=2): # my model just binary (non-spam or not spam)\n",
    "    X = tokenizer.texts_to_sequences(X)\n",
    "    X = pad_sequences(X, maxlen=sequence_length)\n",
    "    if is_one_hot_label: \n",
    "        y = to_categorical(y, num_classes=number_class1)\n",
    "    return X"
   ]
  },
  {
   "cell_type": "code",
   "execution_count": null,
   "id": "706ee9cd-b051-4c45-a538-55aba3508639",
   "metadata": {},
   "outputs": [],
   "source": [
    "v1_XX = make_featues(v1_X, tokenizer)\n",
    "v1_XX[3]"
   ]
  },
  {
   "cell_type": "code",
   "execution_count": null,
   "id": "e08146fe-8fd2-4ba0-b0ab-ae3e1433a121",
   "metadata": {},
   "outputs": [],
   "source": [
    "v1_XX[4]"
   ]
  },
  {
   "cell_type": "code",
   "execution_count": null,
   "id": "a3ed02ec-4962-4ca6-bc89-8536c5843b32",
   "metadata": {},
   "outputs": [],
   "source": [
    "# Make predictions\n",
    "predictions = textCNNModel.predict(v1_XX)\n",
    "\n",
    "predictions"
   ]
  },
  {
   "cell_type": "code",
   "execution_count": null,
   "id": "a065b47e-7cd7-4db9-88a3-72787f62c998",
   "metadata": {},
   "outputs": [],
   "source": [
    "predictions.shape"
   ]
  },
  {
   "cell_type": "code",
   "execution_count": null,
   "id": "fffa9836-d857-44fa-a13b-cde5435e8523",
   "metadata": {},
   "outputs": [],
   "source": [
    "data_test_v1.shape"
   ]
  },
  {
   "cell_type": "code",
   "execution_count": null,
   "id": "13a516a3-0201-483b-ad9e-89f0f08c0124",
   "metadata": {},
   "outputs": [],
   "source": [
    "data_test_v1['predicted_label'] = (predictions > 0.5).astype(int)"
   ]
  },
  {
   "cell_type": "code",
   "execution_count": null,
   "id": "fa368f45-fa47-4c71-8be0-527f6e6c290d",
   "metadata": {},
   "outputs": [],
   "source": [
    "data_test_v1"
   ]
  },
  {
   "cell_type": "code",
   "execution_count": null,
   "id": "35f453dc-8885-49e2-b6b5-c520615ddc2b",
   "metadata": {},
   "outputs": [],
   "source": [
    "# Calculate accuracy\n",
    "accuracy = (data_test_v1['label'] == data_test_v1['predicted_label']).mean()\n",
    "\n",
    "print(f\"Model accuracy: {accuracy:.2%}\")"
   ]
  }
 ],
 "metadata": {
  "kernelspec": {
   "display_name": "Python 3 (ipykernel)",
   "language": "python",
   "name": "python3"
  },
  "language_info": {
   "codemirror_mode": {
    "name": "ipython",
    "version": 3
   },
   "file_extension": ".py",
   "mimetype": "text/x-python",
   "name": "python",
   "nbconvert_exporter": "python",
   "pygments_lexer": "ipython3",
   "version": "3.11.7"
  }
 },
 "nbformat": 4,
 "nbformat_minor": 5
}
