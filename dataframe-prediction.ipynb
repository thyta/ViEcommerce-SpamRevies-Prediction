{
 "cells": [
  {
   "cell_type": "code",
   "execution_count": 1,
   "id": "5bda9b87-7463-4154-a6ed-381fb16515f1",
   "metadata": {},
   "outputs": [],
   "source": [
    "import os\n",
    "import pandas as pd\n",
    "import numpy as np\n",
    "\n",
    "from pyvi.ViTokenizer import ViTokenizer #vietnamese tokenizer\n",
    "\n",
    "import re #regular expression\n",
    "\n",
    "import pickle\n",
    "from keras_preprocessing.sequence import pad_sequences\n",
    "\n",
    "from tensorflow import keras\n",
    "from tensorflow.keras.preprocessing import text, sequence "
   ]
  },
  {
   "cell_type": "code",
   "execution_count": 2,
   "id": "a3557d2b-ecc7-47cd-8361-2a70f1238e28",
   "metadata": {},
   "outputs": [],
   "source": [
    "DIR_DATASET = os.path.join('dataset')\n",
    "\n",
    "EMBEDDING_PATH = os.path.join(DIR_DATASET, 'cc.vi.300.vec')\n",
    "TOKENIZER_PATH = os.path.join(DIR_DATASET, 'tokenizer.pickle')\n",
    "VISTOPWORDS_PATH = os.path.join(DIR_DATASET, \"vietnamese-stopwords.txt\")\n",
    "\n",
    "MODEL_DIR = os.path.join('model')"
   ]
  },
  {
   "cell_type": "code",
   "execution_count": 3,
   "id": "fb5a98eb-3d65-4774-8d20-f5858fb838b5",
   "metadata": {},
   "outputs": [],
   "source": [
    "DIR_DATASET = os.path.join('dataset')\n",
    "\n",
    "EMBEDDING_PATH = os.path.join(DIR_DATASET, 'cc.vi.300.vec')\n",
    "TOKENIZER_PATH = os.path.join(DIR_DATASET, 'tokenizer.pickle')\n",
    "VISTOPWORDS_PATH = os.path.join(DIR_DATASET, \"vietnamese-stopwords.txt\")\n",
    "\n",
    "MODEL_DIR = os.path.join('model')"
   ]
  },
  {
   "cell_type": "code",
   "execution_count": 4,
   "id": "ffe1ed21-9db2-41a5-960e-aab68c2af44a",
   "metadata": {},
   "outputs": [],
   "source": [
    "# Load the pre-trained model\n",
    "CNNS_PATH = os.path.join(MODEL_DIR, 'CNNs.keras')\n",
    "\n",
    "textCNNModel = keras.models.load_model(CNNS_PATH)\n",
    "\n",
    "LSTM_PATH = os.path.join(MODEL_DIR, 'LSTM.keras')\n",
    "\n",
    "LSTM = keras.models.load_model(LSTM_PATH)"
   ]
  },
  {
   "cell_type": "markdown",
   "id": "0cb8a526-41e7-4b56-8975-6d5339a494da",
   "metadata": {},
   "source": [
    "Prepare"
   ]
  },
  {
   "cell_type": "code",
   "execution_count": 5,
   "id": "48cb4f7b-5fae-450f-83fd-8c71d7c9daaa",
   "metadata": {},
   "outputs": [],
   "source": [
    "with open(VISTOPWORDS_PATH, \"r\", encoding=\"utf-8\") as ins:\n",
    "    stopwords = []\n",
    "    for line in ins:\n",
    "        dd = line.strip('\\n')\n",
    "        stopwords.append(dd)\n",
    "    stopwords = set(stopwords)"
   ]
  },
  {
   "cell_type": "code",
   "execution_count": 6,
   "id": "6f4231a6-d330-4af3-9047-a0e616247c8c",
   "metadata": {},
   "outputs": [],
   "source": [
    "PATH_TEST_V1 = os.path.join(DIR_DATASET, 'core-data\\\\test_ver1.csv')\n",
    "data_test_v1 = pd.read_csv(PATH_TEST_V1)"
   ]
  },
  {
   "cell_type": "code",
   "execution_count": 7,
   "id": "ded680f0-845d-48c6-bff2-80b29f99930e",
   "metadata": {},
   "outputs": [
    {
     "data": {
      "text/plain": [
       "(3974, 11)"
      ]
     },
     "execution_count": 7,
     "metadata": {},
     "output_type": "execute_result"
    }
   ],
   "source": [
    "data_test_v1.shape"
   ]
  },
  {
   "cell_type": "code",
   "execution_count": 8,
   "id": "ec7c7dd2-2aaf-4625-a677-f4e4cb20c072",
   "metadata": {},
   "outputs": [
    {
     "data": {
      "text/plain": [
       "Index(['link', 'rating', 'comment', 'categories', 'category', 'product_name',\n",
       "       'description', 'num_sold', 'num_review', 'label', 'spam_label'],\n",
       "      dtype='object')"
      ]
     },
     "execution_count": 8,
     "metadata": {},
     "output_type": "execute_result"
    }
   ],
   "source": [
    "data_test_v1.columns"
   ]
  },
  {
   "cell_type": "code",
   "execution_count": 9,
   "id": "83a31d0a-7dec-479b-b9ac-06a2e0f120f7",
   "metadata": {},
   "outputs": [],
   "source": [
    "data_test_v1=data_test_v1.drop(['link', 'rating', 'categories', 'category', 'product_name',\n",
    "       'description', 'num_sold', 'num_review', 'spam_label'], axis=1)"
   ]
  },
  {
   "cell_type": "code",
   "execution_count": 10,
   "id": "ef8db38a-ee30-4285-a831-8202dcf02cbc",
   "metadata": {},
   "outputs": [],
   "source": [
    "data_test_v1=data_test_v1.drop_duplicates(keep='first')"
   ]
  },
  {
   "cell_type": "code",
   "execution_count": 11,
   "id": "4bb2fd31-34fd-4b70-a2de-a9071886b050",
   "metadata": {},
   "outputs": [
    {
     "data": {
      "text/plain": [
       "0"
      ]
     },
     "execution_count": 11,
     "metadata": {},
     "output_type": "execute_result"
    }
   ],
   "source": [
    "data_test_v1.duplicated().sum()"
   ]
  },
  {
   "cell_type": "code",
   "execution_count": 12,
   "id": "4c6a5a26-85b6-46b3-9d17-d3ad776301cf",
   "metadata": {},
   "outputs": [
    {
     "data": {
      "text/plain": [
       "(3971, 2)"
      ]
     },
     "execution_count": 12,
     "metadata": {},
     "output_type": "execute_result"
    }
   ],
   "source": [
    "data_test_v1.shape"
   ]
  },
  {
   "cell_type": "code",
   "execution_count": 13,
   "id": "905835eb-4285-445f-b5f2-dc2fdeb4e01a",
   "metadata": {},
   "outputs": [],
   "source": [
    "# filder stop word\n",
    "def filter_stop_words(train_sentences, stop_words):\n",
    "    new_sent = [word for word in train_sentences.split() if word not in stop_words]\n",
    "    train_sentences = ' '.join(new_sent)\n",
    "    return train_sentences\n",
    "\n",
    "# remove emoji\n",
    "def deEmojify(text):\n",
    "    regrex_pattern = re.compile(pattern = \"[\"\n",
    "        u\"\\U0001F600-\\U0001F64F\"  # emoticons\n",
    "        u\"\\U0001F300-\\U0001F5FF\"  # symbols & pictographs\n",
    "        u\"\\U0001F680-\\U0001F6FF\"  # transport & map symbols\n",
    "        u\"\\U0001F1E0-\\U0001F1FF\"  # flags (iOS)\n",
    "                           \"]+\", flags = re.UNICODE)\n",
    "    return regrex_pattern.sub(r'',text)\n",
    "# declare func and adding some remove\n",
    "def preprocess(text, tokenized = True, lowercased = True):\n",
    "    text = ViTokenizer.tokenize(text) if tokenized else text\n",
    "    text = filter_stop_words(text, stopwords)\n",
    "    text = deEmojify(text)\n",
    "    text = text.lower() if lowercased else text\n",
    "\n",
    "    text = text.strip()\n",
    "    text = re.compile('<.*?>').sub('', text)\n",
    "    text = re.sub('\\s+', ' ', text) \n",
    "    text = re.sub(r'\\[[0-9]*\\]',' ',text)\n",
    "    text = re.sub(r'[^\\w\\s]', '', text)\n",
    "    text = re.sub(r'\\d',' ',text)\n",
    "    text = re.sub(r'\\s+',' ',text)\n",
    "    return text\n",
    "\n",
    "def pre_process_df(X, tokenized=True, lowercased=True):\n",
    "    X = np.array(X)\n",
    "    to_delete_indices = []\n",
    "    \n",
    "    # Preprocess and track indices of empty elements\n",
    "    for idx, ele in enumerate(X):\n",
    "        processed_ele = preprocess(str(ele), tokenized=tokenized, lowercased=lowercased)\n",
    "        if not processed_ele:\n",
    "            to_delete_indices.append(idx)\n",
    "        X[idx] = processed_ele\n",
    "    \n",
    "    # Remove empty elements\n",
    "    X = np.delete(X, to_delete_indices)\n",
    "    \n",
    "    return X, to_delete_indices"
   ]
  },
  {
   "cell_type": "code",
   "execution_count": 14,
   "id": "a178a509-ca28-4740-b71a-a8e5107c7b6a",
   "metadata": {},
   "outputs": [],
   "source": [
    "X_v1 = data_test_v1.iloc[:, 0:1]\n",
    "y_v1 = data_test_v1.iloc[:, 1:2]"
   ]
  },
  {
   "cell_type": "code",
   "execution_count": 15,
   "id": "3ec0285e-339e-433e-bf94-a02a972786f5",
   "metadata": {},
   "outputs": [],
   "source": [
    "embeddings_index = {}\n",
    "with open(EMBEDDING_PATH, encoding='utf8') as f:\n",
    "    for line in f:\n",
    "        values = line.rstrip().rsplit(' ')\n",
    "        word = values[0]\n",
    "        coefs = np.asarray(values[1:], dtype='float32')\n",
    "        embeddings_index[word] = coefs"
   ]
  },
  {
   "cell_type": "code",
   "execution_count": 16,
   "id": "d6f0cc76-e4a4-49a5-a569-a071ba0f3bd7",
   "metadata": {},
   "outputs": [],
   "source": [
    "v1_X, to_delete_indices = pre_process_df(X_v1['comment'], tokenized=True, lowercased=True)\n",
    "\n",
    "# Remove the rows in the original DataFrame\n",
    "data_test_v1 = data_test_v1.drop(index=to_delete_indices).reset_index(drop=True)"
   ]
  },
  {
   "cell_type": "code",
   "execution_count": 17,
   "id": "6cb958c2-889c-414c-9a8f-bb2550fc1e0c",
   "metadata": {},
   "outputs": [],
   "source": [
    "sequence_length = 100\n",
    "tokenizer = text.Tokenizer(lower=False, filters='!\"#$%&()*+,-./:;<=>?@[\\]^`{|}~\\t\\n')\n",
    "\n",
    "# load internal vocabulary\n",
    "train_X = np.load('dataset/internal-vocabulary.npy')\n",
    "\n",
    "tokenizer.fit_on_texts(train_X)\n",
    "\n",
    "with open(TOKENIZER_PATH, 'wb') as handle:\n",
    "    pickle.dump(tokenizer, handle, protocol=pickle.HIGHEST_PROTOCOL)\n",
    "\n",
    "def make_featues(X, tokenizer, is_one_hot_label=False, number_class1=2): # my model just binary (non-spam or not spam)\n",
    "    X = tokenizer.texts_to_sequences(X)\n",
    "    X = pad_sequences(X, maxlen=sequence_length)\n",
    "    if is_one_hot_label: \n",
    "        y = to_categorical(y, num_classes=number_class1)\n",
    "    return X"
   ]
  },
  {
   "cell_type": "code",
   "execution_count": 18,
   "id": "706ee9cd-b051-4c45-a538-55aba3508639",
   "metadata": {},
   "outputs": [
    {
     "data": {
      "text/plain": [
       "array([   0,    0,    0,    0,    0,    0,    0,    0,    0,    0,    0,\n",
       "          0,    0,    0,    0,    0,    0,    0,    0,    0,    0,    0,\n",
       "          0,    0,    0,    0,    0,    0,    0,    0,    0,    0,    0,\n",
       "          0,    0,    0,    0,    0,    0,    0,    0,    0,    0,    0,\n",
       "          0,    0,    0,    0,    0,    0,    0,    0,    0,    0,    0,\n",
       "          0,    0,    0,    0,    0,    0,    0,    0,    0,    0,    0,\n",
       "          0,   23, 1870,   72, 1071, 3030,  348,    5,  328,  878,   41,\n",
       "        338, 2710,   13,  137,  242, 2228,  945, 1870,   53, 1202,  182,\n",
       "        485,   53,  227,  460,  945,  528,  606,   18,   14,  460,   71,\n",
       "          3])"
      ]
     },
     "execution_count": 18,
     "metadata": {},
     "output_type": "execute_result"
    }
   ],
   "source": [
    "v1_XX = make_featues(v1_X, tokenizer)\n",
    "v1_XX[3]"
   ]
  },
  {
   "cell_type": "code",
   "execution_count": 19,
   "id": "e08146fe-8fd2-4ba0-b0ab-ae3e1433a121",
   "metadata": {},
   "outputs": [
    {
     "data": {
      "text/plain": [
       "array([   0,    0,    0,    0,    0,    0,    0,    0,    0,    0,    0,\n",
       "          0,    0,    0,    0,    0,    0,    0,    0,    0,    0,    0,\n",
       "          0,    0,    0,    0,    0,    0,    0,    0,    0,    0,    0,\n",
       "          0,    0,    0,    0,    0,    0,    0,    0,    0,    0,    0,\n",
       "          0,    0,    0,    0,    0,    0,    0,    0,    0,    0,    0,\n",
       "          0,    0,    0,    0,    0,    0,    0,    0,    0,    0,    0,\n",
       "          0,    0,    0,    0,    0,    0,    0,    0,    0,    0,    0,\n",
       "          0,    0,    0,    0,    0,    0,    0,    0,    0,    0,    1,\n",
       "        281,   40,   96,    8,  671,  255,  223,   13, 1495, 1708,  178,\n",
       "         14])"
      ]
     },
     "execution_count": 19,
     "metadata": {},
     "output_type": "execute_result"
    }
   ],
   "source": [
    "v1_XX[4]"
   ]
  },
  {
   "cell_type": "code",
   "execution_count": 20,
   "id": "a3ed02ec-4962-4ca6-bc89-8536c5843b32",
   "metadata": {},
   "outputs": [
    {
     "name": "stdout",
     "output_type": "stream",
     "text": [
      "\u001b[1m124/124\u001b[0m \u001b[32m━━━━━━━━━━━━━━━━━━━━\u001b[0m\u001b[37m\u001b[0m \u001b[1m1s\u001b[0m 6ms/step\n"
     ]
    },
    {
     "data": {
      "text/plain": [
       "array([[8.9397060e-04],\n",
       "       [1.0195284e-06],\n",
       "       [9.5824361e-01],\n",
       "       ...,\n",
       "       [1.7175148e-11],\n",
       "       [1.9218168e-01],\n",
       "       [9.8872846e-01]], dtype=float32)"
      ]
     },
     "execution_count": 20,
     "metadata": {},
     "output_type": "execute_result"
    }
   ],
   "source": [
    "# Make predictions\n",
    "predictions = textCNNModel.predict(v1_XX)\n",
    "\n",
    "predictions"
   ]
  },
  {
   "cell_type": "code",
   "execution_count": 21,
   "id": "a065b47e-7cd7-4db9-88a3-72787f62c998",
   "metadata": {},
   "outputs": [
    {
     "data": {
      "text/plain": [
       "(3962, 1)"
      ]
     },
     "execution_count": 21,
     "metadata": {},
     "output_type": "execute_result"
    }
   ],
   "source": [
    "predictions.shape"
   ]
  },
  {
   "cell_type": "code",
   "execution_count": 22,
   "id": "fffa9836-d857-44fa-a13b-cde5435e8523",
   "metadata": {},
   "outputs": [
    {
     "data": {
      "text/plain": [
       "(3962, 2)"
      ]
     },
     "execution_count": 22,
     "metadata": {},
     "output_type": "execute_result"
    }
   ],
   "source": [
    "data_test_v1.shape"
   ]
  },
  {
   "cell_type": "code",
   "execution_count": 23,
   "id": "13a516a3-0201-483b-ad9e-89f0f08c0124",
   "metadata": {},
   "outputs": [],
   "source": [
    "data_test_v1['predicted_label'] = (predictions > 0.5).astype(int)"
   ]
  },
  {
   "cell_type": "code",
   "execution_count": 24,
   "id": "fa368f45-fa47-4c71-8be0-527f6e6c290d",
   "metadata": {},
   "outputs": [
    {
     "data": {
      "text/html": [
       "<div>\n",
       "<style scoped>\n",
       "    .dataframe tbody tr th:only-of-type {\n",
       "        vertical-align: middle;\n",
       "    }\n",
       "\n",
       "    .dataframe tbody tr th {\n",
       "        vertical-align: top;\n",
       "    }\n",
       "\n",
       "    .dataframe thead th {\n",
       "        text-align: right;\n",
       "    }\n",
       "</style>\n",
       "<table border=\"1\" class=\"dataframe\">\n",
       "  <thead>\n",
       "    <tr style=\"text-align: right;\">\n",
       "      <th></th>\n",
       "      <th>comment</th>\n",
       "      <th>label</th>\n",
       "      <th>predicted_label</th>\n",
       "    </tr>\n",
       "  </thead>\n",
       "  <tbody>\n",
       "    <tr>\n",
       "      <th>0</th>\n",
       "      <td>Shop giao hàng khá nhanh. Chất liệu cũng được ...</td>\n",
       "      <td>0</td>\n",
       "      <td>0</td>\n",
       "    </tr>\n",
       "    <tr>\n",
       "      <th>1</th>\n",
       "      <td>cát khá thơm\\r\\nnhà mình nuôi 6 bé mà k bị thú...</td>\n",
       "      <td>0</td>\n",
       "      <td>0</td>\n",
       "    </tr>\n",
       "    <tr>\n",
       "      <th>2</th>\n",
       "      <td>Hxgsydùọgdyhcgstdofueycidyxcjckblgidudufkvjfjc...</td>\n",
       "      <td>1</td>\n",
       "      <td>1</td>\n",
       "    </tr>\n",
       "    <tr>\n",
       "      <th>3</th>\n",
       "      <td>Mình đã dùng nhiều loại kcn tầm trung nhưng ph...</td>\n",
       "      <td>0</td>\n",
       "      <td>0</td>\n",
       "    </tr>\n",
       "    <tr>\n",
       "      <th>4</th>\n",
       "      <td>Dsax nhận được hàng. Test thử vài hôm thấy ok....</td>\n",
       "      <td>0</td>\n",
       "      <td>0</td>\n",
       "    </tr>\n",
       "    <tr>\n",
       "      <th>...</th>\n",
       "      <td>...</td>\n",
       "      <td>...</td>\n",
       "      <td>...</td>\n",
       "    </tr>\n",
       "    <tr>\n",
       "      <th>3957</th>\n",
       "      <td>Sản phẩm OK rất đẹp !cảm ơn Shop Sp rẻ mà rất ...</td>\n",
       "      <td>0</td>\n",
       "      <td>0</td>\n",
       "    </tr>\n",
       "    <tr>\n",
       "      <th>3958</th>\n",
       "      <td>Rêu được lấy từ rừng về đã rửa sạch đất cát rồ...</td>\n",
       "      <td>1</td>\n",
       "      <td>0</td>\n",
       "    </tr>\n",
       "    <tr>\n",
       "      <th>3959</th>\n",
       "      <td>Hình ảnh k liên quan lắm :v đai chắc chắn, nhỏ...</td>\n",
       "      <td>0</td>\n",
       "      <td>0</td>\n",
       "    </tr>\n",
       "    <tr>\n",
       "      <th>3960</th>\n",
       "      <td>sản phẩm nhìn bên ngoài quá ngầu , shop giao n...</td>\n",
       "      <td>0</td>\n",
       "      <td>0</td>\n",
       "    </tr>\n",
       "    <tr>\n",
       "      <th>3961</th>\n",
       "      <td>Giao hàng nhanh, đóng gói kĩ, cảm ơn shop, ......</td>\n",
       "      <td>1</td>\n",
       "      <td>1</td>\n",
       "    </tr>\n",
       "  </tbody>\n",
       "</table>\n",
       "<p>3962 rows × 3 columns</p>\n",
       "</div>"
      ],
      "text/plain": [
       "                                                comment  label  \\\n",
       "0     Shop giao hàng khá nhanh. Chất liệu cũng được ...      0   \n",
       "1     cát khá thơm\\r\\nnhà mình nuôi 6 bé mà k bị thú...      0   \n",
       "2     Hxgsydùọgdyhcgstdofueycidyxcjckblgidudufkvjfjc...      1   \n",
       "3     Mình đã dùng nhiều loại kcn tầm trung nhưng ph...      0   \n",
       "4     Dsax nhận được hàng. Test thử vài hôm thấy ok....      0   \n",
       "...                                                 ...    ...   \n",
       "3957  Sản phẩm OK rất đẹp !cảm ơn Shop Sp rẻ mà rất ...      0   \n",
       "3958  Rêu được lấy từ rừng về đã rửa sạch đất cát rồ...      1   \n",
       "3959  Hình ảnh k liên quan lắm :v đai chắc chắn, nhỏ...      0   \n",
       "3960  sản phẩm nhìn bên ngoài quá ngầu , shop giao n...      0   \n",
       "3961  Giao hàng nhanh, đóng gói kĩ, cảm ơn shop, ......      1   \n",
       "\n",
       "      predicted_label  \n",
       "0                   0  \n",
       "1                   0  \n",
       "2                   1  \n",
       "3                   0  \n",
       "4                   0  \n",
       "...               ...  \n",
       "3957                0  \n",
       "3958                0  \n",
       "3959                0  \n",
       "3960                0  \n",
       "3961                1  \n",
       "\n",
       "[3962 rows x 3 columns]"
      ]
     },
     "execution_count": 24,
     "metadata": {},
     "output_type": "execute_result"
    }
   ],
   "source": [
    "data_test_v1"
   ]
  },
  {
   "cell_type": "code",
   "execution_count": 25,
   "id": "35f453dc-8885-49e2-b6b5-c520615ddc2b",
   "metadata": {},
   "outputs": [
    {
     "name": "stdout",
     "output_type": "stream",
     "text": [
      "Model accuracy: 81.65%\n"
     ]
    }
   ],
   "source": [
    "# Calculate accuracy\n",
    "accuracy = (data_test_v1['label'] == data_test_v1['predicted_label']).mean()\n",
    "\n",
    "print(f\"Model accuracy: {accuracy:.2%}\")"
   ]
  }
 ],
 "metadata": {
  "kernelspec": {
   "display_name": "Python 3 (ipykernel)",
   "language": "python",
   "name": "python3"
  },
  "language_info": {
   "codemirror_mode": {
    "name": "ipython",
    "version": 3
   },
   "file_extension": ".py",
   "mimetype": "text/x-python",
   "name": "python",
   "nbconvert_exporter": "python",
   "pygments_lexer": "ipython3",
   "version": "3.11.7"
  }
 },
 "nbformat": 4,
 "nbformat_minor": 5
}
